{
 "cells": [
  {
   "cell_type": "code",
   "execution_count": 16,
   "id": "initial_id",
   "metadata": {
    "collapsed": true,
    "ExecuteTime": {
     "end_time": "2023-11-13T16:26:07.632834700Z",
     "start_time": "2023-11-13T16:26:07.620946500Z"
    }
   },
   "outputs": [],
   "source": [
    "from sqlalchemy import Column, Integer, String, Boolean, DateTime, create_engine\n",
    "from sqlalchemy.orm import declarative_base, sessionmaker\n",
    "from datetime import datetime, timezone"
   ]
  },
  {
   "cell_type": "code",
   "execution_count": 17,
   "outputs": [],
   "source": [
    "Base = declarative_base()"
   ],
   "metadata": {
    "collapsed": false,
    "ExecuteTime": {
     "end_time": "2023-11-13T16:26:07.635829400Z",
     "start_time": "2023-11-13T16:26:07.629305300Z"
    }
   },
   "id": "9d3be2cc8a72cdc9"
  },
  {
   "cell_type": "code",
   "execution_count": 18,
   "outputs": [],
   "source": [
    "class TestResults(Base):\n",
    "    __tablename__ = 'test_results'\n",
    "    id = Column(Integer, primary_key=True)\n",
    "    test_id = Column(Integer)\n",
    "    test_name = Column(String)\n",
    "    result = Column(Boolean)\n",
    "    output = Column(String)\n",
    "    timestamp = Column(DateTime, default=datetime.now(timezone.utc))"
   ],
   "metadata": {
    "collapsed": false,
    "ExecuteTime": {
     "end_time": "2023-11-13T16:26:07.661447400Z",
     "start_time": "2023-11-13T16:26:07.635829400Z"
    }
   },
   "id": "aae886fa709d8fae"
  },
  {
   "cell_type": "code",
   "execution_count": 19,
   "outputs": [],
   "source": [
    "engine = create_engine('sqlite:///test_results.db')\n",
    "Base.metadata.create_all(engine)"
   ],
   "metadata": {
    "collapsed": false,
    "ExecuteTime": {
     "end_time": "2023-11-13T16:26:07.662869400Z",
     "start_time": "2023-11-13T16:26:07.646644100Z"
    }
   },
   "id": "e6f8cd0b660a0457"
  },
  {
   "cell_type": "code",
   "execution_count": 20,
   "outputs": [],
   "source": [
    "Session = sessionmaker(bind=engine)\n",
    "session = Session(\n",
    "    \n",
    ")\n",
    "\n",
    "new_result = TestResults(\n",
    "    test_id=1,\n",
    "    test_name='All Test',\n",
    "    result=True,\n",
    "    output='Test output'\n",
    ")\n",
    "session.add(new_result)\n",
    "session.commit()\n"
   ],
   "metadata": {
    "collapsed": false,
    "ExecuteTime": {
     "end_time": "2023-11-13T16:26:07.664736500Z",
     "start_time": "2023-11-13T16:26:07.651768300Z"
    }
   },
   "id": "7f871569ffa0ddab"
  }
 ],
 "metadata": {
  "kernelspec": {
   "display_name": "Python 3",
   "language": "python",
   "name": "python3"
  },
  "language_info": {
   "codemirror_mode": {
    "name": "ipython",
    "version": 2
   },
   "file_extension": ".py",
   "mimetype": "text/x-python",
   "name": "python",
   "nbconvert_exporter": "python",
   "pygments_lexer": "ipython2",
   "version": "2.7.6"
  }
 },
 "nbformat": 4,
 "nbformat_minor": 5
}
