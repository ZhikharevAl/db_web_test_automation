{
 "cells": [
  {
   "cell_type": "code",
   "execution_count": 1,
   "id": "initial_id",
   "metadata": {
    "collapsed": true,
    "ExecuteTime": {
     "end_time": "2023-11-13T22:49:42.243793200Z",
     "start_time": "2023-11-13T22:49:41.924562200Z"
    }
   },
   "outputs": [],
   "source": [
    "from sqlalchemy import Column, Integer, String, Boolean, DateTime, create_engine\n",
    "from sqlalchemy.orm import declarative_base, sessionmaker\n",
    "from datetime import datetime, timezone"
   ]
  },
  {
   "cell_type": "code",
   "execution_count": 2,
   "outputs": [],
   "source": [
    "Base = declarative_base()"
   ],
   "metadata": {
    "collapsed": false,
    "ExecuteTime": {
     "end_time": "2023-11-13T22:49:42.256130300Z",
     "start_time": "2023-11-13T22:49:42.241694700Z"
    }
   },
   "id": "9d3be2cc8a72cdc9"
  },
  {
   "cell_type": "code",
   "execution_count": 3,
   "outputs": [],
   "source": [
    "class TestResults(Base):\n",
    "    __tablename__ = 'test_results'\n",
    "    id = Column(Integer, primary_key=True)\n",
    "    Test_name = Column(String)\n",
    "    Result = Column(Boolean)\n",
    "    Description = Column(String)\n",
    "    timestamp = Column(DateTime, default=datetime.now(timezone.utc))"
   ],
   "metadata": {
    "collapsed": false,
    "ExecuteTime": {
     "end_time": "2023-11-13T22:49:42.272196500Z",
     "start_time": "2023-11-13T22:49:42.254140900Z"
    }
   },
   "id": "aae886fa709d8fae"
  },
  {
   "cell_type": "code",
   "execution_count": 4,
   "outputs": [],
   "source": [
    "engine = create_engine('sqlite:///test_results.db')\n",
    "Base.metadata.create_all(engine)"
   ],
   "metadata": {
    "collapsed": false,
    "ExecuteTime": {
     "end_time": "2023-11-13T22:49:42.320490300Z",
     "start_time": "2023-11-13T22:49:42.262686200Z"
    }
   },
   "id": "e6f8cd0b660a0457"
  },
  {
   "cell_type": "code",
   "execution_count": 5,
   "outputs": [],
   "source": [
    "Session = sessionmaker(bind=engine)\n",
    "session = Session()"
   ],
   "metadata": {
    "collapsed": false,
    "ExecuteTime": {
     "end_time": "2023-11-13T22:49:42.320958700Z",
     "start_time": "2023-11-13T22:49:42.293215900Z"
    }
   },
   "id": "7f871569ffa0ddab"
  },
  {
   "cell_type": "code",
   "execution_count": 6,
   "outputs": [],
   "source": [
    "new_result = TestResults(\n",
    "    Test_name='E2E test',\n",
    "    Result=True,\n",
    "    Description='All test passed'\n",
    ")\n",
    "session.add(new_result)\n",
    "session.commit()"
   ],
   "metadata": {
    "collapsed": false,
    "ExecuteTime": {
     "end_time": "2023-11-13T22:49:42.322163600Z",
     "start_time": "2023-11-13T22:49:42.300680Z"
    }
   },
   "id": "cceb8cd8a4d22e63"
  }
 ],
 "metadata": {
  "kernelspec": {
   "display_name": "Python 3",
   "language": "python",
   "name": "python3"
  },
  "language_info": {
   "codemirror_mode": {
    "name": "ipython",
    "version": 2
   },
   "file_extension": ".py",
   "mimetype": "text/x-python",
   "name": "python",
   "nbconvert_exporter": "python",
   "pygments_lexer": "ipython2",
   "version": "2.7.6"
  }
 },
 "nbformat": 4,
 "nbformat_minor": 5
}
